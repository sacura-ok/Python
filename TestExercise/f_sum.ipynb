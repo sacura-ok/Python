{
 "cells": [
  {
   "cell_type": "code",
   "execution_count": null,
   "metadata": {},
   "outputs": [],
   "source": [
    "def f_sum(num):\n",
    "\n",
    "    sum_n = 0\n",
    "    s = str(num)\n",
    "    ex = \" + \".join(s)\n",
    "    print(\"=> \" + ex)\n",
    "\n",
    "    for n in list(s):\n",
    "        sum_n = sum_n + int(n)\n",
    "\n",
    "    if sum_n >= 10:\n",
    "        print(sum_n)\n",
    "        f_sum(sum_n)\n",
    "    else:\n",
    "        print(sum_n)\n",
    "\n",
    "numb =  int(input(\"Enter a number = \")) #5999887855398\n",
    "assert  numb>1, \"It's not an absolute value\"\n",
    "f_sum(numb)\n"
   ]
  }
 ],
 "metadata": {
  "kernelspec": {
   "display_name": "Python 3",
   "language": "python",
   "name": "python3"
  },
  "language_info": {
   "codemirror_mode": {
    "name": "ipython",
    "version": 3
   },
   "file_extension": ".py",
   "mimetype": "text/x-python",
   "name": "python",
   "nbconvert_exporter": "python",
   "pygments_lexer": "ipython3",
   "version": "3.6.6"
  }
 },
 "nbformat": 4,
 "nbformat_minor": 2
}
